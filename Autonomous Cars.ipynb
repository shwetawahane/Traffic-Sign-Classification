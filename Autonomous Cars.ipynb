{
 "cells": [
  {
   "cell_type": "markdown",
   "metadata": {},
   "source": [
    "# CODE TO CLASSIFY TRAFFIC SIGNS"
   ]
  },
  {
   "cell_type": "markdown",
   "metadata": {},
   "source": [
    "Citation\n",
    "\n",
    "J. Stallkamp, M. Schlipsing, J. Salmen, and C. Igel. The German Traffic Sign Recognition Benchmark: A multi-class classification competition. In Proceedings of the IEEE International Joint Conference on Neural Networks, pages 1453–1460. 2011. \n",
    "\n",
    "@inproceedings{Stallkamp-IJCNN-2011,\n",
    "    author = {Johannes Stallkamp and Marc Schlipsing and Jan Salmen and Christian Igel},\n",
    "    booktitle = {IEEE International Joint Conference on Neural Networks},\n",
    "    title = {The {G}erman {T}raffic {S}ign {R}ecognition {B}enchmark: A multi-class classification competition},\n",
    "    year = {2011},\n",
    "    pages = {1453--1460}\n",
    "}\n",
    "\n"
   ]
  },
  {
   "cell_type": "markdown",
   "metadata": {},
   "source": [
    "- ( 0, b'Speed limit (20km/h)') ( 1, b'Speed limit (30km/h)')\n",
    "- ( 2, b'Speed limit (50km/h)') ( 3, b'Speed limit (60km/h)')\n",
    "- ( 4, b'Speed limit (70km/h)') ( 5, b'Speed limit (80km/h)')\n",
    "- ( 6, b'End of speed limit (80km/h)') ( 7, b'Speed limit (100km/h)')\n",
    "- ( 8, b'Speed limit (120km/h)') ( 9, b'No passing')\n",
    "- (10, b'No passing for vehicles over 3.5 metric tons')\n",
    "- (11, b'Right-of-way at the next intersection') (12, b'Priority road')\n",
    "- (13, b'Yield') (14, b'Stop') (15, b'No vehicles')\n",
    "- (16, b'Vehicles over 3.5 metric tons prohibited') (17, b'No entry')\n",
    "- (18, b'General caution') (19, b'Dangerous curve to the left')\n",
    "- (20, b'Dangerous curve to the right') (21, b'Double curve')\n",
    "- (22, b'Bumpy road') (23, b'Slippery road')\n",
    "- (24, b'Road narrows on the right') (25, b'Road work')\n",
    "- (26, b'Traffic signals') (27, b'Pedestrians') (28, b'Children crossing')\n",
    "- (29, b'Bicycles crossing') (30, b'Beware of ice/snow')\n",
    "- (31, b'Wild animals crossing')\n",
    "- (32, b'End of all speed and passing limits') (33, b'Turn right ahead')\n",
    "- (34, b'Turn left ahead') (35, b'Ahead only') (36, b'Go straight or right')\n",
    "- (37, b'Go straight or left') (38, b'Keep right') (39, b'Keep left')\n",
    "- (40, b'Roundabout mandatory') (41, b'End of no passing')\n",
    "- (42, b'End of no passing by vehicles over 3.5 metric tons')\n"
   ]
  },
  {
   "cell_type": "code",
   "execution_count": 2,
   "metadata": {},
   "outputs": [],
   "source": [
    "import warnings\n",
    "warnings.filterwarnings(\"ignore\")"
   ]
  },
  {
   "cell_type": "code",
   "execution_count": 3,
   "metadata": {},
   "outputs": [],
   "source": [
    "# import libraries \n",
    "import pickle\n",
    "\n",
    "import pandas as pd # Import Pandas for data manipulation using dataframes\n",
    "import numpy as np # Import Numpy for data statistical analysis \n",
    "import matplotlib.pyplot as plt # Import matplotlib for data visualisation\n",
    "import random"
   ]
  },
  {
   "cell_type": "code",
   "execution_count": 4,
   "metadata": {},
   "outputs": [],
   "source": [
    "with open(\"./traffic-signs-data/train.p\", mode='rb') as training_data:\n",
    "    train = pickle.load(training_data)\n",
    "with open(\"./traffic-signs-data/valid.p\", mode='rb') as validation_data:\n",
    "    valid = pickle.load(validation_data)\n",
    "with open(\"./traffic-signs-data/test.p\", mode='rb') as testing_data:\n",
    "    test = pickle.load(testing_data)"
   ]
  },
  {
   "cell_type": "code",
   "execution_count": 27,
   "metadata": {},
   "outputs": [],
   "source": [
    "X_train, y_train = train['features'], train['labels']\n",
    "X_validation, y_validation = valid['features'], valid['labels']\n",
    "X_test, y_test = test['features'], test['labels']\n"
   ]
  },
  {
   "cell_type": "code",
   "execution_count": 28,
   "metadata": {},
   "outputs": [
    {
     "data": {
      "text/plain": [
       "(34799, 32, 32, 3)"
      ]
     },
     "execution_count": 28,
     "metadata": {},
     "output_type": "execute_result"
    }
   ],
   "source": [
    "X_train.shape"
   ]
  },
  {
   "cell_type": "code",
   "execution_count": 29,
   "metadata": {},
   "outputs": [
    {
     "data": {
      "text/plain": [
       "(34799,)"
      ]
     },
     "execution_count": 29,
     "metadata": {},
     "output_type": "execute_result"
    }
   ],
   "source": [
    "y_train.shape"
   ]
  },
  {
   "cell_type": "markdown",
   "metadata": {},
   "source": [
    "# IMAGE EXPLORATION"
   ]
  },
  {
   "cell_type": "code",
   "execution_count": 31,
   "metadata": {},
   "outputs": [
    {
     "data": {
      "text/plain": [
       "0"
      ]
     },
     "execution_count": 31,
     "metadata": {},
     "output_type": "execute_result"
    },
    {
     "data": {
      "image/png": "[encoded data removed]",
      "text/plain": [
       "<Figure size 432x288 with 1 Axes>"
      ]
     },
     "metadata": {
      "needs_background": "light"
     },
     "output_type": "display_data"
    }
   ],
   "source": [
    "i = 10009\n",
    "plt.imshow(X_train[i]) # Show images are not shuffled\n",
    "y_train[i]"
   ]
  },
  {
   "cell_type": "markdown",
   "metadata": {},
   "source": [
    "# DATA PEPARATION"
   ]
  },
  {
   "cell_type": "code",
   "execution_count": 9,
   "metadata": {},
   "outputs": [],
   "source": [
    "## Shuffle the dataset \n",
    "from sklearn.utils import shuffle\n",
    "X_train, y_train = shuffle(X_train, y_train)\n"
   ]
  },
  {
   "cell_type": "code",
   "execution_count": 10,
   "metadata": {},
   "outputs": [],
   "source": [
    "X_train_gray = np.sum(X_train/3, axis=3, keepdims=True)\n",
    "X_test_gray  = np.sum(X_test/3, axis=3, keepdims=True)\n",
    "X_validation_gray  = np.sum(X_validation/3, axis=3, keepdims=True) "
   ]
  },
  {
   "cell_type": "code",
   "execution_count": 11,
   "metadata": {},
   "outputs": [],
   "source": [
    "X_train_gray_norm = (X_train_gray - 128)/128 \n",
    "X_test_gray_norm = (X_test_gray - 128)/128\n",
    "X_validation_gray_norm = (X_validation_gray - 128)/128\n"
   ]
  },
  {
   "cell_type": "code",
   "execution_count": 12,
   "metadata": {},
   "outputs": [
    {
     "data": {
      "text/plain": [
       "(34799, 32, 32, 1)"
      ]
     },
     "execution_count": 12,
     "metadata": {},
     "output_type": "execute_result"
    }
   ],
   "source": [
    "X_train_gray.shape"
   ]
  },
  {
   "cell_type": "code",
   "execution_count": 22,
   "metadata": {},
   "outputs": [
    {
     "data": {
      "text/plain": [
       "<matplotlib.image.AxesImage at 0x171aab71da0>"
      ]
     },
     "execution_count": 22,
     "metadata": {},
     "output_type": "execute_result"
    },
    {
     "data": {
      "image/png": "[encoded data removed]",
      "text/plain": [
       "<Figure size 432x288 with 1 Axes>"
      ]
     },
     "metadata": {
      "needs_background": "light"
     },
     "output_type": "display_data"
    },
    {
     "data": {
      "image/png": "[encoded data removed]",
      "text/plain": [
       "<Figure size 432x288 with 1 Axes>"
      ]
     },
     "metadata": {
      "needs_background": "light"
     },
     "output_type": "display_data"
    }
   ],
   "source": [
    "i = 610  # try 630 or 750\n",
    "plt.imshow(X_train_gray[i].squeeze(), cmap='gray')\n",
    "plt.figure()\n",
    "plt.imshow(X_train[i])\n"
   ]
  },
  {
   "cell_type": "markdown",
   "metadata": {},
   "source": [
    "# MODEL TRAINING"
   ]
  },
  {
   "cell_type": "code",
   "execution_count": 1,
   "metadata": {},
   "outputs": [
    {
     "name": "stderr",
     "output_type": "stream",
     "text": [
      "c:\\users\\shwet\\appdata\\local\\programs\\python\\python37\\lib\\site-packages\\numpy\\_distributor_init.py:32: UserWarning: loaded more than 1 DLL from .libs:\n",
      "c:\\users\\shwet\\appdata\\local\\programs\\python\\python37\\lib\\site-packages\\numpy\\.libs\\libopenblas.QVLO2T66WEPI7JZ63PS3HMOHFEY472BC.gfortran-win_amd64.dll\n",
      "c:\\users\\shwet\\appdata\\local\\programs\\python\\python37\\lib\\site-packages\\numpy\\.libs\\libopenblas.WCDJNK7YVMPZQ2ME2ZZHJJRJ3JIKNDB7.gfortran-win_amd64.dll\n",
      "  stacklevel=1)\n"
     ]
    }
   ],
   "source": [
    "# Import train_test_split from scikit library\n",
    "# import keras\n",
    "\n",
    "from keras.models import Sequential\n",
    "from keras.layers import Conv2D, MaxPooling2D, Dense, Flatten, Dropout\n",
    "from keras.optimizers import Adam\n",
    "from keras.callbacks import TensorBoard\n",
    "\n",
    "# from subprocess import check_output\n",
    "from sklearn.model_selection import train_test_split\n"
   ]
  },
  {
   "cell_type": "code",
   "execution_count": 7,
   "metadata": {},
   "outputs": [
    {
     "ename": "NameError",
     "evalue": "name 'X_train_gray' is not defined",
     "output_type": "error",
     "traceback": [
      "\u001b[1;31m---------------------------------------------------------------------------\u001b[0m",
      "\u001b[1;31mNameError\u001b[0m                                 Traceback (most recent call last)",
      "\u001b[1;32m<ipython-input-7-a1f821e6f8d1>\u001b[0m in \u001b[0;36m<module>\u001b[1;34m\u001b[0m\n\u001b[1;32m----> 1\u001b[1;33m \u001b[0mimage_shape\u001b[0m \u001b[1;33m=\u001b[0m \u001b[0mX_train_gray\u001b[0m\u001b[1;33m[\u001b[0m\u001b[0mi\u001b[0m\u001b[1;33m]\u001b[0m\u001b[1;33m.\u001b[0m\u001b[0mshape\u001b[0m\u001b[1;33m\u001b[0m\u001b[1;33m\u001b[0m\u001b[0m\n\u001b[0m",
      "\u001b[1;31mNameError\u001b[0m: name 'X_train_gray' is not defined"
     ]
    }
   ],
   "source": [
    "image_shape = X_train_gray[i].shape"
   ]
  },
  {
   "cell_type": "code",
   "execution_count": 16,
   "metadata": {},
   "outputs": [],
   "source": [
    "cnn_model = Sequential()\n",
    "cnn_model.add(Conv2D(32,3, 3, input_shape = image_shape, activation='relu'))\n",
    "cnn_model.add(MaxPooling2D(pool_size = (2, 2)))\n",
    "cnn_model.add(Flatten())\n",
    "cnn_model.add(Dense(32, activation = 'relu')) #output_dim = 32\n",
    "cnn_model.add(Dense(43, activation = 'sigmoid')) #output_dim = 43\n"
   ]
  },
  {
   "cell_type": "code",
   "execution_count": 17,
   "metadata": {},
   "outputs": [],
   "source": [
    "# Configure the model for training\n",
    "cnn_model.compile(loss ='sparse_categorical_crossentropy', optimizer=Adam(lr=0.001),metrics =['accuracy'])"
   ]
  },
  {
   "cell_type": "code",
   "execution_count": 18,
   "metadata": {},
   "outputs": [
    {
     "name": "stdout",
     "output_type": "stream",
     "text": [
      "Epoch 1/50\n",
      "70/70 [==============================] - 5s 45ms/step - loss: 3.5645 - accuracy: 0.0679 - val_loss: 3.3747 - val_accuracy: 0.1519\n",
      "Epoch 2/50\n",
      "70/70 [==============================] - 2s 25ms/step - loss: 3.0859 - accuracy: 0.1988 - val_loss: 2.9935 - val_accuracy: 0.2329\n",
      "Epoch 3/50\n",
      "70/70 [==============================] - 2s 27ms/step - loss: 2.5919 - accuracy: 0.3198 - val_loss: 2.5620 - val_accuracy: 0.3327\n",
      "Epoch 4/50\n",
      "70/70 [==============================] - 2s 26ms/step - loss: 2.1653 - accuracy: 0.4171 - val_loss: 2.2371 - val_accuracy: 0.4177\n",
      "Epoch 5/50\n",
      "70/70 [==============================] - 2s 24ms/step - loss: 1.8619 - accuracy: 0.4902 - val_loss: 2.0194 - val_accuracy: 0.4580\n",
      "Epoch 6/50\n",
      "70/70 [==============================] - 2s 25ms/step - loss: 1.6333 - accuracy: 0.5470 - val_loss: 1.8848 - val_accuracy: 0.4671\n",
      "Epoch 7/50\n",
      "70/70 [==============================] - 2s 24ms/step - loss: 1.4558 - accuracy: 0.5948 - val_loss: 1.7081 - val_accuracy: 0.5503\n",
      "Epoch 8/50\n",
      "70/70 [==============================] - 2s 25ms/step - loss: 1.3298 - accuracy: 0.6286 - val_loss: 1.6425 - val_accuracy: 0.5458\n",
      "Epoch 9/50\n",
      "70/70 [==============================] - 2s 25ms/step - loss: 1.2326 - accuracy: 0.6530 - val_loss: 1.5490 - val_accuracy: 0.5680\n",
      "Epoch 10/50\n",
      "70/70 [==============================] - 2s 26ms/step - loss: 1.1431 - accuracy: 0.6817 - val_loss: 1.4859 - val_accuracy: 0.5741\n",
      "Epoch 11/50\n",
      "70/70 [==============================] - 2s 26ms/step - loss: 1.0905 - accuracy: 0.6922 - val_loss: 1.4355 - val_accuracy: 0.5844\n",
      "Epoch 12/50\n",
      "70/70 [==============================] - 2s 25ms/step - loss: 1.0122 - accuracy: 0.7159 - val_loss: 1.4126 - val_accuracy: 0.5909\n",
      "Epoch 13/50\n",
      "70/70 [==============================] - 2s 26ms/step - loss: 0.9795 - accuracy: 0.7237 - val_loss: 1.3532 - val_accuracy: 0.6172\n",
      "Epoch 14/50\n",
      "70/70 [==============================] - 2s 25ms/step - loss: 0.9222 - accuracy: 0.7375 - val_loss: 1.3415 - val_accuracy: 0.6331\n",
      "Epoch 15/50\n",
      "70/70 [==============================] - 2s 26ms/step - loss: 0.8908 - accuracy: 0.7454 - val_loss: 1.3065 - val_accuracy: 0.6186\n",
      "Epoch 16/50\n",
      "70/70 [==============================] - 2s 24ms/step - loss: 0.8650 - accuracy: 0.7527 - val_loss: 1.2997 - val_accuracy: 0.6317\n",
      "Epoch 17/50\n",
      "70/70 [==============================] - 2s 24ms/step - loss: 0.8234 - accuracy: 0.7624 - val_loss: 1.2554 - val_accuracy: 0.6320\n",
      "Epoch 18/50\n",
      "70/70 [==============================] - 2s 27ms/step - loss: 0.8018 - accuracy: 0.7720 - val_loss: 1.2305 - val_accuracy: 0.6578\n",
      "Epoch 19/50\n",
      "70/70 [==============================] - 2s 30ms/step - loss: 0.7711 - accuracy: 0.7814 - val_loss: 1.2403 - val_accuracy: 0.6583\n",
      "Epoch 20/50\n",
      "70/70 [==============================] - 2s 27ms/step - loss: 0.7521 - accuracy: 0.7839 - val_loss: 1.1807 - val_accuracy: 0.6769\n",
      "Epoch 21/50\n",
      "70/70 [==============================] - 2s 26ms/step - loss: 0.7259 - accuracy: 0.7957 - val_loss: 1.2045 - val_accuracy: 0.6739\n",
      "Epoch 22/50\n",
      "70/70 [==============================] - 2s 27ms/step - loss: 0.7015 - accuracy: 0.8013 - val_loss: 1.2109 - val_accuracy: 0.6719\n",
      "Epoch 23/50\n",
      "70/70 [==============================] - 2s 27ms/step - loss: 0.6848 - accuracy: 0.8053 - val_loss: 1.1791 - val_accuracy: 0.6689\n",
      "Epoch 24/50\n",
      "70/70 [==============================] - 2s 26ms/step - loss: 0.6716 - accuracy: 0.8102 - val_loss: 1.1491 - val_accuracy: 0.6812\n",
      "Epoch 25/50\n",
      "70/70 [==============================] - 2s 26ms/step - loss: 0.6567 - accuracy: 0.8156 - val_loss: 1.1402 - val_accuracy: 0.7018\n",
      "Epoch 26/50\n",
      "70/70 [==============================] - 2s 31ms/step - loss: 0.6319 - accuracy: 0.8256 - val_loss: 1.1198 - val_accuracy: 0.7025\n",
      "Epoch 27/50\n",
      "70/70 [==============================] - 2s 26ms/step - loss: 0.6287 - accuracy: 0.8243 - val_loss: 1.1341 - val_accuracy: 0.7086\n",
      "Epoch 28/50\n",
      "70/70 [==============================] - 2s 26ms/step - loss: 0.6031 - accuracy: 0.8332 - val_loss: 1.1161 - val_accuracy: 0.7005\n",
      "Epoch 29/50\n",
      "70/70 [==============================] - 2s 27ms/step - loss: 0.5903 - accuracy: 0.8356 - val_loss: 1.1284 - val_accuracy: 0.7102\n",
      "Epoch 30/50\n",
      "70/70 [==============================] - 2s 26ms/step - loss: 0.5864 - accuracy: 0.8386 - val_loss: 1.1329 - val_accuracy: 0.6952\n",
      "Epoch 31/50\n",
      "70/70 [==============================] - 2s 27ms/step - loss: 0.5650 - accuracy: 0.8434 - val_loss: 1.1044 - val_accuracy: 0.7156\n",
      "Epoch 32/50\n",
      "70/70 [==============================] - 2s 26ms/step - loss: 0.5485 - accuracy: 0.8506 - val_loss: 1.1360 - val_accuracy: 0.7082\n",
      "Epoch 33/50\n",
      "70/70 [==============================] - 2s 27ms/step - loss: 0.5466 - accuracy: 0.8509 - val_loss: 1.1242 - val_accuracy: 0.7086\n",
      "Epoch 34/50\n",
      "70/70 [==============================] - 2s 28ms/step - loss: 0.5412 - accuracy: 0.8499 - val_loss: 1.1173 - val_accuracy: 0.7152\n",
      "Epoch 35/50\n",
      "70/70 [==============================] - 2s 27ms/step - loss: 0.5214 - accuracy: 0.8566 - val_loss: 1.1023 - val_accuracy: 0.7163\n",
      "Epoch 36/50\n",
      "70/70 [==============================] - 2s 26ms/step - loss: 0.5147 - accuracy: 0.8607 - val_loss: 1.0774 - val_accuracy: 0.7197\n",
      "Epoch 37/50\n",
      "70/70 [==============================] - 2s 26ms/step - loss: 0.5117 - accuracy: 0.8613 - val_loss: 1.0991 - val_accuracy: 0.7204\n",
      "Epoch 38/50\n",
      "70/70 [==============================] - 2s 26ms/step - loss: 0.4905 - accuracy: 0.8621 - val_loss: 1.0924 - val_accuracy: 0.7166\n",
      "Epoch 39/50\n",
      "70/70 [==============================] - 2s 25ms/step - loss: 0.4883 - accuracy: 0.8670 - val_loss: 1.0586 - val_accuracy: 0.7478\n",
      "Epoch 40/50\n",
      "70/70 [==============================] - 2s 25ms/step - loss: 0.4791 - accuracy: 0.8678 - val_loss: 1.0574 - val_accuracy: 0.7399\n",
      "Epoch 41/50\n",
      "70/70 [==============================] - 2s 24ms/step - loss: 0.4661 - accuracy: 0.8734 - val_loss: 1.0906 - val_accuracy: 0.7202\n",
      "Epoch 42/50\n",
      "70/70 [==============================] - 2s 25ms/step - loss: 0.4650 - accuracy: 0.8763 - val_loss: 1.0801 - val_accuracy: 0.7231\n",
      "Epoch 43/50\n",
      "70/70 [==============================] - 2s 25ms/step - loss: 0.4559 - accuracy: 0.8784 - val_loss: 1.1027 - val_accuracy: 0.7277\n",
      "Epoch 44/50\n",
      "70/70 [==============================] - 2s 27ms/step - loss: 0.4522 - accuracy: 0.8750 - val_loss: 1.0666 - val_accuracy: 0.7379\n",
      "Epoch 45/50\n",
      "70/70 [==============================] - 2s 27ms/step - loss: 0.4377 - accuracy: 0.8796 - val_loss: 1.0377 - val_accuracy: 0.7501\n",
      "Epoch 46/50\n",
      "70/70 [==============================] - 2s 24ms/step - loss: 0.4236 - accuracy: 0.8871 - val_loss: 1.0566 - val_accuracy: 0.7515\n",
      "Epoch 47/50\n",
      "70/70 [==============================] - 2s 25ms/step - loss: 0.4312 - accuracy: 0.8842 - val_loss: 1.0373 - val_accuracy: 0.7526\n",
      "Epoch 48/50\n",
      "70/70 [==============================] - 2s 25ms/step - loss: 0.4256 - accuracy: 0.8858 - val_loss: 1.0175 - val_accuracy: 0.7562\n",
      "Epoch 49/50\n",
      "70/70 [==============================] - 2s 25ms/step - loss: 0.4102 - accuracy: 0.8886 - val_loss: 1.0705 - val_accuracy: 0.7474\n",
      "Epoch 50/50\n",
      "70/70 [==============================] - 2s 25ms/step - loss: 0.4072 - accuracy: 0.8872 - val_loss: 1.0572 - val_accuracy: 0.7440\n"
     ]
    }
   ],
   "source": [
    "# Train the model for a fixed number of epochs (iterations on a dataset).\n",
    "'''\n",
    "Returns a History object. \n",
    "Its History.history attribute is a record of training loss values and metrics values at successive epochs, \n",
    "as well as validation loss values and validation metrics values.\n",
    "'''\n",
    "history = cnn_model.fit(X_train_gray_norm,\n",
    "                        y_train,\n",
    "                        batch_size=500,\n",
    "                        epochs=50,\n",
    "                        verbose=1,\n",
    "                        validation_data = (X_validation_gray_norm,y_validation))"
   ]
  },
  {
   "cell_type": "code",
   "execution_count": 19,
   "metadata": {},
   "outputs": [
    {
     "name": "stdout",
     "output_type": "stream",
     "text": [
      "Test Accuracy : 0.7230\n"
     ]
    }
   ],
   "source": [
    "#Returns the metrics values for the model in test mode.\n",
    "score = cnn_model.evaluate(X_test_gray_norm, y_test,verbose=0)\n",
    "print('Test Accuracy : {:.4f}'.format(score[1]))"
   ]
  },
  {
   "cell_type": "code",
   "execution_count": 31,
   "metadata": {},
   "outputs": [
    {
     "data": {
      "image/png": "[encoded data removed]",
      "text/plain": [
       "<Figure size 432x288 with 1 Axes>"
      ]
     },
     "metadata": {
      "needs_background": "light"
     },
     "output_type": "display_data"
    },
    {
     "data": {
      "image/png": "[encoded data removed]",
      "text/plain": [
       "<Figure size 432x288 with 1 Axes>"
      ]
     },
     "metadata": {
      "needs_background": "light"
     },
     "output_type": "display_data"
    }
   ],
   "source": [
    "import matplotlib.pyplot as plt\n",
    "%matplotlib inline\n",
    "accuracy = history.history['accuracy']\n",
    "val_accuracy = history.history['val_accuracy']\n",
    "loss = history.history['loss']\n",
    "val_loss = history.history['val_loss']\n",
    "epochs = range(len(accuracy))\n",
    "plt.plot(epochs, accuracy, 'bo', label='Training Accuracy')\n",
    "plt.plot(epochs, val_accuracy, 'b', label='Validation Accuracy')\n",
    "plt.title('Training and Validation accuracy')\n",
    "plt.legend()\n",
    "plt.figure()\n",
    "plt.plot(epochs, loss, 'bo', label='Training Loss')\n",
    "plt.plot(epochs, val_loss, 'b', label='Validation Loss')\n",
    "plt.title('Training and validation loss')\n",
    "plt.legend()\n",
    "plt.show()"
   ]
  },
  {
   "cell_type": "code",
   "execution_count": 32,
   "metadata": {},
   "outputs": [],
   "source": [
    "#get the predictions for the test data\n",
    "predicted_classes = cnn_model.predict_classes(X_test_gray_norm)\n",
    "#get the indices to be plotted\n",
    "y_true = y_test\n"
   ]
  },
  {
   "cell_type": "code",
   "execution_count": 33,
   "metadata": {},
   "outputs": [
    {
     "data": {
      "text/plain": [
       "array([[  9,  10,   0, ...,   1,   0,   0],\n",
       "       [  1, 592,  26, ...,   1,   0,   0],\n",
       "       [  0,  26, 630, ...,  11,   0,   0],\n",
       "       ...,\n",
       "       [  0,   7,   0, ...,  42,   0,   0],\n",
       "       [  0,   0,   1, ...,   0,  24,   2],\n",
       "       [  0,   4,   2, ...,   0,   0,  34]], dtype=int64)"
      ]
     },
     "execution_count": 33,
     "metadata": {},
     "output_type": "execute_result"
    }
   ],
   "source": [
    "from sklearn.metrics import confusion_matrix\n",
    "cm = confusion_matrix(y_true, predicted_classes)\n",
    "cm"
   ]
  },
  {
   "cell_type": "code",
   "execution_count": 55,
   "metadata": {
    "scrolled": true
   },
   "outputs": [
    {
     "data": {
      "image/png": "[encoded data removed]",
      "text/plain": [
       "<Figure size 432x288 with 6 Axes>"
      ]
     },
     "metadata": {
      "needs_background": "light"
     },
     "output_type": "display_data"
    }
   ],
   "source": [
    "for i in range(0,6):\n",
    "    plt.subplot(2,3,i+1)\n",
    "    plt.imshow(X_test_gray_norm[i+10].squeeze(), cmap='gray', interpolation='none')\n",
    "    plt.title(\"Predicted {}, Class {}\".format(predicted_classes[i+10], y_true[i+10]))\n",
    "    plt.tight_layout()\n",
    "\n",
    "plt.tight_layout(pad=10.0)"
   ]
  },
  {
   "cell_type": "code",
   "execution_count": null,
   "metadata": {},
   "outputs": [],
   "source": []
  }
 ],
 "metadata": {
  "kernelspec": {
   "display_name": "Python 3",
   "language": "python",
   "name": "python3"
  },
  "language_info": {
   "codemirror_mode": {
    "name": "ipython",
    "version": 3
   },
   "file_extension": ".py",
   "mimetype": "text/x-python",
   "name": "python",
   "nbconvert_exporter": "python",
   "pygments_lexer": "ipython3",
   "version": "3.7.2"
  },
  "widgets": {
   "state": {},
   "version": "1.1.2"
  }
 },
 "nbformat": 4,
 "nbformat_minor": 2
}
